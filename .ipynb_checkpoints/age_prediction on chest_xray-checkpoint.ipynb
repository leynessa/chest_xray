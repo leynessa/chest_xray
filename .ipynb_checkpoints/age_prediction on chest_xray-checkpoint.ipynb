{
 "cells": [
  {
   "cell_type": "code",
   "execution_count": 1,
   "id": "2d9cdd70",
   "metadata": {},
   "outputs": [
    {
     "data": {
      "text/html": [
       "<div>\n",
       "<style scoped>\n",
       "    .dataframe tbody tr th:only-of-type {\n",
       "        vertical-align: middle;\n",
       "    }\n",
       "\n",
       "    .dataframe tbody tr th {\n",
       "        vertical-align: top;\n",
       "    }\n",
       "\n",
       "    .dataframe thead th {\n",
       "        text-align: right;\n",
       "    }\n",
       "</style>\n",
       "<table border=\"1\" class=\"dataframe\">\n",
       "  <thead>\n",
       "    <tr style=\"text-align: right;\">\n",
       "      <th></th>\n",
       "      <th>imageId</th>\n",
       "      <th>age</th>\n",
       "    </tr>\n",
       "  </thead>\n",
       "  <tbody>\n",
       "    <tr>\n",
       "      <th>0</th>\n",
       "      <td>0</td>\n",
       "      <td>89.0</td>\n",
       "    </tr>\n",
       "    <tr>\n",
       "      <th>1</th>\n",
       "      <td>1</td>\n",
       "      <td>72.0</td>\n",
       "    </tr>\n",
       "    <tr>\n",
       "      <th>2</th>\n",
       "      <td>2</td>\n",
       "      <td>25.0</td>\n",
       "    </tr>\n",
       "    <tr>\n",
       "      <th>3</th>\n",
       "      <td>3</td>\n",
       "      <td>68.0</td>\n",
       "    </tr>\n",
       "    <tr>\n",
       "      <th>4</th>\n",
       "      <td>4</td>\n",
       "      <td>37.0</td>\n",
       "    </tr>\n",
       "  </tbody>\n",
       "</table>\n",
       "</div>"
      ],
      "text/plain": [
       "   imageId   age\n",
       "0        0  89.0\n",
       "1        1  72.0\n",
       "2        2  25.0\n",
       "3        3  68.0\n",
       "4        4  37.0"
      ]
     },
     "execution_count": 1,
     "metadata": {},
     "output_type": "execute_result"
    }
   ],
   "source": [
    "\n",
    "import numpy as np # linear algebra\n",
    "import pandas as pd # data processing, CSV file I/O (e.g. pd.read_csv)\n",
    "import tensorflow as tf\n",
    "import pandas as pd\n",
    "import numpy as np\n",
    "import cv2\n",
    "import os\n",
    "import pathlib\n",
    "\n",
    "import pandas as pd\n",
    "import numpy as np\n",
    "import os\n",
    "import matplotlib.pyplot as plt\n",
    "import cv2\n",
    "from keras.models import Sequential,load_model,Model\n",
    "from keras.layers import Conv2D,MaxPool2D,Dense,Dropout,BatchNormalization,Flatten,Input\n",
    "from sklearn.model_selection import train_test_split\n",
    "\n",
    "dataset_folder =  r\"C:\\Users\\leyne\\Downloads\\spr-x-ray-age\"\n",
    "dataset = pd.read_csv(os.path.join(dataset_folder, \"train_age.csv\"))\n",
    "dataset.head()"
   ]
  },
  {
   "cell_type": "code",
   "execution_count": 2,
   "id": "612ee6e5",
   "metadata": {},
   "outputs": [
    {
     "data": {
      "text/plain": [
       "10702"
      ]
     },
     "execution_count": 2,
     "metadata": {},
     "output_type": "execute_result"
    }
   ],
   "source": [
    "len(dataset)"
   ]
  },
  {
   "cell_type": "code",
   "execution_count": 3,
   "id": "db9ad061",
   "metadata": {},
   "outputs": [],
   "source": [
    "train = list(pathlib.Path(\n",
    "                      os.path.join(dataset_folder, \"kaggle/kaggle/train\")\n",
    "                  ).glob(\"*.*\"))\n",
    "test = list(pathlib.Path(os.path.join(\n",
    "                      dataset_folder, \"kaggle/kaggle/test\"\n",
    "                  )).glob(\"*.*\"))"
   ]
  },
  {
   "cell_type": "code",
   "execution_count": 4,
   "id": "78922e03",
   "metadata": {},
   "outputs": [
    {
     "data": {
      "text/plain": [
       "(10702, 11747)"
      ]
     },
     "execution_count": 4,
     "metadata": {},
     "output_type": "execute_result"
    }
   ],
   "source": [
    "len(train), len(test)"
   ]
  },
  {
   "cell_type": "code",
   "execution_count": 5,
   "id": "4b286de6",
   "metadata": {},
   "outputs": [
    {
     "data": {
      "text/plain": [
       "[WindowsPath('C:/Users/leyne/Downloads/spr-x-ray-age/kaggle/kaggle/train/000000.png'),\n",
       " WindowsPath('C:/Users/leyne/Downloads/spr-x-ray-age/kaggle/kaggle/train/000001.png'),\n",
       " WindowsPath('C:/Users/leyne/Downloads/spr-x-ray-age/kaggle/kaggle/train/000002.png'),\n",
       " WindowsPath('C:/Users/leyne/Downloads/spr-x-ray-age/kaggle/kaggle/train/000003.png'),\n",
       " WindowsPath('C:/Users/leyne/Downloads/spr-x-ray-age/kaggle/kaggle/train/000004.png'),\n",
       " WindowsPath('C:/Users/leyne/Downloads/spr-x-ray-age/kaggle/kaggle/train/000005.png'),\n",
       " WindowsPath('C:/Users/leyne/Downloads/spr-x-ray-age/kaggle/kaggle/train/000006.png'),\n",
       " WindowsPath('C:/Users/leyne/Downloads/spr-x-ray-age/kaggle/kaggle/train/000007.png'),\n",
       " WindowsPath('C:/Users/leyne/Downloads/spr-x-ray-age/kaggle/kaggle/train/000008.png'),\n",
       " WindowsPath('C:/Users/leyne/Downloads/spr-x-ray-age/kaggle/kaggle/train/000009.png')]"
      ]
     },
     "execution_count": 5,
     "metadata": {},
     "output_type": "execute_result"
    }
   ],
   "source": [
    "train.sort()\n",
    "train[:10]"
   ]
  },
  {
   "cell_type": "code",
   "execution_count": null,
   "id": "3fc83c44",
   "metadata": {},
   "outputs": [],
   "source": [
    "def read_images(pathes_images):\n",
    "  images = []\n",
    "  for img in pathes_images:\n",
    "    img = cv2.imread(str(img), 0)\n",
    "    img = cv2.resize(img ,(64, 64))\n",
    "    img  = img / 255\n",
    "    images.append(img)\n",
    "  return images\n",
    "train = read_images(train)\n",
    "train = np.array(train)\n",
    "train.shape"
   ]
  },
  {
   "cell_type": "code",
   "execution_count": null,
   "id": "823f502e",
   "metadata": {},
   "outputs": [],
   "source": [
    "import matplotlib.pyplot as plt\n",
    "def show_images(images):\n",
    "  plt.figure(figsize = (12, 12))\n",
    "  for i in range(64):\n",
    "    plt.subplot(8, 8, (i + 1))\n",
    "    plt.imshow(images[i], cmap = 'gray')\n",
    "    \n",
    "  plt.show()"
   ]
  },
  {
   "cell_type": "code",
   "execution_count": null,
   "id": "86278f9b",
   "metadata": {},
   "outputs": [],
   "source": [
    "show_images(train)"
   ]
  },
  {
   "cell_type": "code",
   "execution_count": null,
   "id": "4da099bb",
   "metadata": {},
   "outputs": [],
   "source": [
    "label_dataset = pd.read_csv(r\"C:\\Users\\leyne\\Downloads\\spr-x-ray-age\\train_age.csv\" )\n",
    "label_dataset.head()"
   ]
  },
  {
   "cell_type": "code",
   "execution_count": null,
   "id": "56413875",
   "metadata": {},
   "outputs": [],
   "source": [
    "label = label_dataset['age']\n",
    "label.shape"
   ]
  },
  {
   "cell_type": "code",
   "execution_count": null,
   "id": "bef0eed7",
   "metadata": {},
   "outputs": [],
   "source": [
    "image_data_generator = tf.keras.preprocessing.image.ImageDataGenerator(\n",
    "    shear_range = 0.1, \n",
    "    horizontal_flip = True,\n",
    "    zoom_range = 0.3,\n",
    "    rotation_range = 0.2\n",
    ")"
   ]
  },
  {
   "cell_type": "code",
   "execution_count": null,
   "id": "41ac4fcd",
   "metadata": {},
   "outputs": [],
   "source": [
    "def make_augmentation(images, label):\n",
    "  images_ = []\n",
    "  labels_ = []\n",
    "  for index, value in enumerate(images): \n",
    "    for i in range(5):\n",
    "      img  = image_data_generator.flow(np.reshape(value, (1, 64, 64, 1))).next()\n",
    "      images_.append(img)\n",
    "      labels_.append(label[index])\n",
    "  return np.array(images_), np.array(labels_)\n",
    "train, labels = make_augmentation(train, label)\n"
   ]
  },
  {
   "cell_type": "code",
   "execution_count": null,
   "id": "0c47364e",
   "metadata": {},
   "outputs": [],
   "source": [
    "train.shape"
   ]
  },
  {
   "cell_type": "code",
   "execution_count": null,
   "id": "f93cc3bd",
   "metadata": {},
   "outputs": [],
   "source": [
    "train = np.reshape(train, (train.shape[0], 64, 64, 1))\n",
    "train.shape\n",
    "\n",
    "train.shape, labels.shape\n",
    "\n",
    "\n",
    "\n",
    "from sklearn.model_selection import train_test_split\n",
    "X_train, X_test, y_train, y_test = train_test_split(train, labels, test_size = 0.2, random_state  = True)"
   ]
  },
  {
   "cell_type": "code",
   "execution_count": null,
   "id": "4c25f374",
   "metadata": {},
   "outputs": [],
   "source": [
    "input = Input(shape=(64,64, 1))\n",
    "conv1 = Conv2D(140,(3,3),activation=\"relu\")(input)\n",
    "conv2 = Conv2D(130,(3,3),activation=\"relu\")(conv1)\n",
    "batch1 = BatchNormalization()(conv2)\n",
    "pool3 = MaxPool2D((2,2))(batch1)\n",
    "conv3 = Conv2D(120,(3,3),activation=\"relu\")(pool3)\n",
    "batch2 = BatchNormalization()(conv3)\n",
    "pool4 = MaxPool2D((2,2))(batch2)\n",
    "flt = Flatten()(pool4)\n",
    "#age\n",
    "age_l = Dense(128,activation=\"relu\")(flt)\n",
    "age_l = Dense(64,activation=\"relu\")(age_l)\n",
    "age_l = Dense(32,activation=\"relu\")(age_l)\n",
    "age_l = Dense(1,activation=\"relu\")(age_l)"
   ]
  },
  {
   "cell_type": "code",
   "execution_count": null,
   "id": "35ce6d46",
   "metadata": {},
   "outputs": [],
   "source": [
    "model = Model(inputs=input,outputs=[age_l])"
   ]
  },
  {
   "cell_type": "code",
   "execution_count": null,
   "id": "82226155",
   "metadata": {},
   "outputs": [],
   "source": [
    "\n",
    "model.compile(optimizer=\"adam\",loss=[\"mse\",\"sparse_categorical_crossentropy\"],metrics='mae')\n",
    "history= model.fit(X_train,y_train,validation_data=(X_test,y_test),epochs=50)"
   ]
  },
  {
   "cell_type": "code",
   "execution_count": null,
   "id": "368ca36e",
   "metadata": {},
   "outputs": [],
   "source": [
    "model.evaluate(X_test, y_test)"
   ]
  },
  {
   "cell_type": "code",
   "execution_count": null,
   "id": "f6f80e7b",
   "metadata": {},
   "outputs": [],
   "source": []
  },
  {
   "cell_type": "code",
   "execution_count": null,
   "id": "b5f7a478",
   "metadata": {},
   "outputs": [],
   "source": []
  },
  {
   "cell_type": "code",
   "execution_count": null,
   "id": "58a66062",
   "metadata": {},
   "outputs": [],
   "source": []
  },
  {
   "cell_type": "code",
   "execution_count": null,
   "id": "8cc2d35b",
   "metadata": {},
   "outputs": [],
   "source": []
  },
  {
   "cell_type": "code",
   "execution_count": null,
   "id": "4748ed6b",
   "metadata": {},
   "outputs": [],
   "source": []
  },
  {
   "cell_type": "code",
   "execution_count": null,
   "id": "868cd565",
   "metadata": {},
   "outputs": [],
   "source": []
  }
 ],
 "metadata": {
  "kernelspec": {
   "display_name": "Python 3 (ipykernel)",
   "language": "python",
   "name": "python3"
  },
  "language_info": {
   "codemirror_mode": {
    "name": "ipython",
    "version": 3
   },
   "file_extension": ".py",
   "mimetype": "text/x-python",
   "name": "python",
   "nbconvert_exporter": "python",
   "pygments_lexer": "ipython3",
   "version": "3.9.12"
  }
 },
 "nbformat": 4,
 "nbformat_minor": 5
}
